{
 "cells": [
  {
   "cell_type": "code",
   "execution_count": 1,
   "metadata": {},
   "outputs": [
    {
     "name": "stdout",
     "output_type": "stream",
     "text": [
      "                                                Tweets                 Date  \\\n",
      "0    @BongaDlulane Please send an email to mediades...  2019-11-29 12:50:54   \n",
      "1           @saucy_mamiie Pls log a call on 0860037566  2019-11-29 12:46:53   \n",
      "2         @BongaDlulane Query escalated to media desk.  2019-11-29 12:46:10   \n",
      "3    Before leaving the office this afternoon, head...  2019-11-29 12:33:36   \n",
      "4    #ESKOMFREESTATE #MEDIASTATEMENT : ESKOM SUSPEN...  2019-11-29 12:17:43   \n",
      "..                                                 ...                  ...   \n",
      "195  Eskom's Visitors Centres’ facilities include i...  2019-11-20 10:29:07   \n",
      "196  #Eskom connected 400 houses and in the process...  2019-11-20 10:25:20   \n",
      "197       @ArthurGodbeer Is the power restored as yet?  2019-11-20 10:07:59   \n",
      "198  @MuthambiPaulina @SABCNewsOnline @IOL @eNCA @e...  2019-11-20 10:07:41   \n",
      "199  RT @GP_DHS: The @GautengProvince made a commit...  2019-11-20 10:00:09   \n",
      "\n",
      "    municipality                              hashtags  \n",
      "0            NaN                                   NaN  \n",
      "1            NaN                                   NaN  \n",
      "2            NaN                                   NaN  \n",
      "3            NaN                                   NaN  \n",
      "4            NaN    [#eskomfreestate, #mediastatement]  \n",
      "..           ...                                   ...  \n",
      "195          NaN                                   NaN  \n",
      "196          NaN  [#eskom, #eskom, #poweringyourworld]  \n",
      "197          NaN                                   NaN  \n",
      "198          NaN                                   NaN  \n",
      "199          NaN                                   NaN  \n",
      "\n",
      "[200 rows x 4 columns]\n"
     ]
    }
   ],
   "source": [
    "import extract_municipality_hashtags as emh\n",
    "import pandas as pd\n",
    "\n",
    "twitter_url = 'https://raw.githubusercontent.com/RidhaMoosa/eskom_data-/master/twitter_nov_2019.csv'\n",
    "twitter_df = pd.read_csv(twitter_url)\n",
    "\n",
    "df = twitter_df\n",
    "print(emh.extract_municipality_hashtags(df))"
   ]
  }
 ],
 "metadata": {
  "kernelspec": {
   "display_name": "Python 3",
   "language": "python",
   "name": "python3"
  },
  "language_info": {
   "codemirror_mode": {
    "name": "ipython",
    "version": 3
   },
   "file_extension": ".py",
   "mimetype": "text/x-python",
   "name": "python",
   "nbconvert_exporter": "python",
   "pygments_lexer": "ipython3",
   "version": "3.7.4"
  }
 },
 "nbformat": 4,
 "nbformat_minor": 2
}
