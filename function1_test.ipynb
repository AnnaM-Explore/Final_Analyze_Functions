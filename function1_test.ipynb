{
 "cells": [
  {
   "cell_type": "code",
   "execution_count": 4,
   "metadata": {},
   "outputs": [
    {
     "data": {
      "text/plain": "{'mean': 26244.42,\n 'median': 24403.5,\n 'var': 108160153.17,\n 'std': 10400.01,\n 'min': 8842.0,\n 'max': 39660.0}"
     },
     "execution_count": 4,
     "metadata": {},
     "output_type": "execute_result"
    }
   ],
   "source": [
    "from Functions import metric_dictionary as md\n",
    "import pandas as pd\n",
    "\n",
    "ebp_url = 'https://raw.githubusercontent.com/Explore-AI/Public-Data/master/Data/electrification_by_province.csv'\n",
    "ebp_df = pd.read_csv(ebp_url)\n",
    "\n",
    "for col, row in ebp_df.iloc[:,1:].iteritems():\n",
    "    ebp_df[col] = ebp_df[col].str.replace(',','').astype(int)\n",
    "\n",
    "ebp_df.head()\n",
    "\n",
    "# gauteng ebp data as a list\n",
    "gauteng = ebp_df['Gauteng'].astype(float).to_list()\n",
    "\n",
    "md.dictionary_of_metrics(gauteng)"
   ]
  },
  {
   "cell_type": "code",
   "execution_count": null,
   "metadata": {},
   "outputs": [],
   "source": []
  }
 ],
 "metadata": {
  "kernelspec": {
   "display_name": "Python 3",
   "language": "python",
   "name": "python3"
  },
  "language_info": {
   "codemirror_mode": {
    "name": "ipython",
    "version": 3
   },
   "file_extension": ".py",
   "mimetype": "text/x-python",
   "name": "python",
   "nbconvert_exporter": "python",
   "pygments_lexer": "ipython3",
   "version": "3.7.3-final"
  }
 },
 "nbformat": 4,
 "nbformat_minor": 2
}