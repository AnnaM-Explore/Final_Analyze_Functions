{
 "cells": [
  {
   "cell_type": "code",
   "execution_count": 1,
   "metadata": {},
   "outputs": [],
   "source": [
    "import numpy as np\n",
    "import pandas as pd\n",
    "from function2 import five_num_summary"
   ]
  },
  {
   "cell_type": "code",
   "execution_count": 2,
   "metadata": {},
   "outputs": [
    {
     "data": {
      "text/html": [
       "<div>\n",
       "<style scoped>\n",
       "    .dataframe tbody tr th:only-of-type {\n",
       "        vertical-align: middle;\n",
       "    }\n",
       "\n",
       "    .dataframe tbody tr th {\n",
       "        vertical-align: top;\n",
       "    }\n",
       "\n",
       "    .dataframe thead th {\n",
       "        text-align: right;\n",
       "    }\n",
       "</style>\n",
       "<table border=\"1\" class=\"dataframe\">\n",
       "  <thead>\n",
       "    <tr style=\"text-align: right;\">\n",
       "      <th></th>\n",
       "      <th>Financial Year (1 April - 30 March)</th>\n",
       "      <th>Limpopo</th>\n",
       "      <th>Mpumalanga</th>\n",
       "      <th>North west</th>\n",
       "      <th>Free State</th>\n",
       "      <th>Kwazulu Natal</th>\n",
       "      <th>Eastern Cape</th>\n",
       "      <th>Western Cape</th>\n",
       "      <th>Northern Cape</th>\n",
       "      <th>Gauteng</th>\n",
       "    </tr>\n",
       "  </thead>\n",
       "  <tbody>\n",
       "    <tr>\n",
       "      <th>0</th>\n",
       "      <td>2000/1</td>\n",
       "      <td>51860</td>\n",
       "      <td>28365</td>\n",
       "      <td>48429</td>\n",
       "      <td>21293</td>\n",
       "      <td>63413</td>\n",
       "      <td>49008</td>\n",
       "      <td>48429</td>\n",
       "      <td>6168</td>\n",
       "      <td>39660</td>\n",
       "    </tr>\n",
       "    <tr>\n",
       "      <th>1</th>\n",
       "      <td>2001/2</td>\n",
       "      <td>68121</td>\n",
       "      <td>26303</td>\n",
       "      <td>38685</td>\n",
       "      <td>20928</td>\n",
       "      <td>64123</td>\n",
       "      <td>45773</td>\n",
       "      <td>38685</td>\n",
       "      <td>10359</td>\n",
       "      <td>36024</td>\n",
       "    </tr>\n",
       "    <tr>\n",
       "      <th>2</th>\n",
       "      <td>2002/3</td>\n",
       "      <td>49881</td>\n",
       "      <td>11976</td>\n",
       "      <td>28532</td>\n",
       "      <td>10316</td>\n",
       "      <td>63078</td>\n",
       "      <td>55748</td>\n",
       "      <td>28532</td>\n",
       "      <td>6869</td>\n",
       "      <td>32127</td>\n",
       "    </tr>\n",
       "    <tr>\n",
       "      <th>3</th>\n",
       "      <td>2003/4</td>\n",
       "      <td>42034</td>\n",
       "      <td>33515</td>\n",
       "      <td>34027</td>\n",
       "      <td>16135</td>\n",
       "      <td>60282</td>\n",
       "      <td>47414</td>\n",
       "      <td>34027</td>\n",
       "      <td>10976</td>\n",
       "      <td>39488</td>\n",
       "    </tr>\n",
       "    <tr>\n",
       "      <th>4</th>\n",
       "      <td>2004/5</td>\n",
       "      <td>54646</td>\n",
       "      <td>16218</td>\n",
       "      <td>21450</td>\n",
       "      <td>5668</td>\n",
       "      <td>37811</td>\n",
       "      <td>42041</td>\n",
       "      <td>21450</td>\n",
       "      <td>6316</td>\n",
       "      <td>18422</td>\n",
       "    </tr>\n",
       "  </tbody>\n",
       "</table>\n",
       "</div>"
      ],
      "text/plain": [
       "  Financial Year (1 April - 30 March)  Limpopo  Mpumalanga  North west  \\\n",
       "0                              2000/1    51860       28365       48429   \n",
       "1                              2001/2    68121       26303       38685   \n",
       "2                              2002/3    49881       11976       28532   \n",
       "3                              2003/4    42034       33515       34027   \n",
       "4                              2004/5    54646       16218       21450   \n",
       "\n",
       "   Free State  Kwazulu Natal  Eastern Cape  Western Cape  Northern Cape  \\\n",
       "0       21293          63413         49008         48429           6168   \n",
       "1       20928          64123         45773         38685          10359   \n",
       "2       10316          63078         55748         28532           6869   \n",
       "3       16135          60282         47414         34027          10976   \n",
       "4        5668          37811         42041         21450           6316   \n",
       "\n",
       "   Gauteng  \n",
       "0    39660  \n",
       "1    36024  \n",
       "2    32127  \n",
       "3    39488  \n",
       "4    18422  "
      ]
     },
     "execution_count": 2,
     "metadata": {},
     "output_type": "execute_result"
    }
   ],
   "source": [
    "ebp_url = 'https://raw.githubusercontent.com/Explore-AI/Public-Data/master/Data/electrification_by_province.csv'\n",
    "ebp_df = pd.read_csv(ebp_url)\n",
    "\n",
    "for col, row in ebp_df.iloc[:,1:].iteritems():\n",
    "    ebp_df[col] = ebp_df[col].str.replace(',','').astype(int)\n",
    "\n",
    "ebp_df.head()"
   ]
  },
  {
   "cell_type": "code",
   "execution_count": 3,
   "metadata": {},
   "outputs": [],
   "source": [
    "# gauteng ebp data as a list\n",
    "gauteng = ebp_df['Gauteng'].astype(float).to_list()"
   ]
  },
  {
   "cell_type": "code",
   "execution_count": 4,
   "metadata": {},
   "outputs": [
    {
     "data": {
      "text/plain": [
       "[39660.0,\n",
       " 36024.0,\n",
       " 32127.0,\n",
       " 39488.0,\n",
       " 18422.0,\n",
       " 23532.0,\n",
       " 8842.0,\n",
       " 37416.0,\n",
       " 16156.0,\n",
       " 18730.0,\n",
       " 19261.0,\n",
       " 25275.0]"
      ]
     },
     "execution_count": 4,
     "metadata": {},
     "output_type": "execute_result"
    }
   ],
   "source": [
    "gauteng"
   ]
  },
  {
   "cell_type": "code",
   "execution_count": 5,
   "metadata": {},
   "outputs": [
    {
     "data": {
      "text/plain": [
       "{'max': 39660.0,\n",
       " 'median': 24403.5,\n",
       " 'min': 8842.0,\n",
       " 'q1': 18653.0,\n",
       " 'q3': 36372.0}"
      ]
     },
     "execution_count": 5,
     "metadata": {},
     "output_type": "execute_result"
    }
   ],
   "source": [
    "five_num_summary(gauteng)"
   ]
  },
  {
   "cell_type": "code",
   "execution_count": null,
   "metadata": {},
   "outputs": [],
   "source": []
  }
 ],
 "metadata": {
  "kernelspec": {
   "display_name": "Python 3",
   "language": "python",
   "name": "python3"
  },
  "language_info": {
   "codemirror_mode": {
    "name": "ipython",
    "version": 3
   },
   "file_extension": ".py",
   "mimetype": "text/x-python",
   "name": "python",
   "nbconvert_exporter": "python",
   "pygments_lexer": "ipython3",
   "version": "3.7.3"
  }
 },
 "nbformat": 4,
 "nbformat_minor": 2
}
