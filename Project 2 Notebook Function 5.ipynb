{
 "cells": [
  {
   "cell_type": "code",
   "execution_count": 1,
   "metadata": {},
   "outputs": [
    {
     "name": "stdout",
     "output_type": "stream",
     "text": [
      "            Tweets\n",
      "Date              \n",
      "2019-11-29      16\n",
      "2019-11-28      32\n",
      "2019-11-27      13\n",
      "2019-11-26      32\n",
      "2019-11-25      20\n",
      "2019-11-24      14\n",
      "2019-11-23      19\n",
      "2019-11-22      25\n",
      "2019-11-21      11\n",
      "2019-11-20      18\n"
     ]
    }
   ],
   "source": [
    "from Functions import number_of_tweets_per_day as td\n",
    "import pandas as pd\n",
    "\n",
    "twitter_url = 'https://raw.githubusercontent.com/RidhaMoosa/eskom_data-/master/twitter_nov_2019.csv'\n",
    "twitter_df = pd.read_csv(twitter_url)\n",
    "\n",
    "df = twitter_df\n",
    "print(td.number_of_tweets_per_day(df))"
   ]
  }
 ],
 "metadata": {
  "kernelspec": {
   "display_name": "Python 3",
   "language": "python",
   "name": "python3"
  },
  "language_info": {
   "codemirror_mode": {
    "name": "ipython",
    "version": 3
   },
   "file_extension": ".py",
   "mimetype": "text/x-python",
   "name": "python",
   "nbconvert_exporter": "python",
   "pygments_lexer": "ipython3",
   "version": "3.7.4"
  }
 },
 "nbformat": 4,
 "nbformat_minor": 2
}
